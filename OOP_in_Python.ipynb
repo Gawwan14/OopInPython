{
  "nbformat": 4,
  "nbformat_minor": 0,
  "metadata": {
    "colab": {
      "provenance": []
    },
    "kernelspec": {
      "name": "python3",
      "display_name": "Python 3"
    },
    "language_info": {
      "name": "python"
    }
  },
  "cells": [
    {
      "cell_type": "code",
      "execution_count": 3,
      "metadata": {
        "id": "anABTYEHBJ9V",
        "colab": {
          "base_uri": "https://localhost:8080/"
        },
        "collapsed": true,
        "outputId": "d9c17693-f825-4a9b-88c8-19127dc8c3b7"
      },
      "outputs": [
        {
          "output_type": "stream",
          "name": "stdout",
          "text": [
            "Rocky is eating.\n",
            "Rocky is sleeping.\n",
            "Rocky is barking.\n",
            "Tom is eating.\n",
            "Tom is sleeping.\n",
            "Tom is meowing.\n"
          ]
        }
      ],
      "source": [
        "class Animal:\n",
        "    def __init__(self, name):\n",
        "        self.name = name\n",
        "\n",
        "    def eat(self):\n",
        "        print(f\"{self.name} is eating.\")\n",
        "\n",
        "    def sleep(self):\n",
        "        print(f\"{self.name} is sleeping.\")\n",
        "\n",
        "\n",
        "class Dog(Animal):\n",
        "    def bark(self):\n",
        "        print(f\"{self.name} is barking.\")\n",
        "\n",
        "\n",
        "class Cat(Animal):\n",
        "    def meow(self):\n",
        "        print(f\"{self.name} is meowing.\")\n",
        "\n",
        "dog = Dog(\"Rocky\")\n",
        "cat = Cat(\"Tom\")\n",
        "dog.eat()\n",
        "dog.sleep()\n",
        "dog.bark()\n",
        "cat.eat()\n",
        "cat.sleep()\n",
        "cat.meow()"
      ]
    }
  ]
}